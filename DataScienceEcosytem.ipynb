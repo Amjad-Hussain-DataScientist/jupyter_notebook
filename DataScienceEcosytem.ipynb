{
 "cells": [
  {
   "cell_type": "markdown",
   "id": "68d0f4a0-6eaf-4351-8f07-40e4c36551d8",
   "metadata": {},
   "source": [
    "**Exercise 2: Create markdown cell with title of the notebook**"
   ]
  },
  {
   "cell_type": "markdown",
   "id": "b4da3f33-65f6-4887-aed4-6c7794a5d7a5",
   "metadata": {},
   "source": [
    "# Data Science Tools and Ecosystem"
   ]
  },
  {
   "cell_type": "code",
   "execution_count": null,
   "id": "67484020-b923-486c-8445-d682d109ab3c",
   "metadata": {},
   "outputs": [],
   "source": []
  },
  {
   "cell_type": "markdown",
   "id": "16c12c20-694e-4cd1-972b-cadcd8f79a98",
   "metadata": {},
   "source": [
    "__Exercise 3 - Create a markdown cell for an introduction__"
   ]
  },
  {
   "cell_type": "markdown",
   "id": "e60cc853-5061-4590-8d00-12ac5f8d0714",
   "metadata": {},
   "source": [
    "### In this notebook, Data Science Tools and Ecosystem are summarized."
   ]
  },
  {
   "cell_type": "code",
   "execution_count": null,
   "id": "0abffa8a-abbb-4bbb-b348-194c0d8f2f43",
   "metadata": {},
   "outputs": [],
   "source": []
  },
  {
   "cell_type": "markdown",
   "id": "4c7cae5a-5767-4926-992e-47494f28faf0",
   "metadata": {},
   "source": [
    "**Exercise 4 - Create a markdown cell to list data science languages**"
   ]
  },
  {
   "cell_type": "markdown",
   "id": "76b7bf80-e252-40d0-a00d-49fae232540c",
   "metadata": {},
   "source": [
    "#### Some of the popular languages that Data Scientists use are:"
   ]
  },
  {
   "cell_type": "markdown",
   "id": "d894b114-600b-4f9b-897b-2dae9db623b9",
   "metadata": {},
   "source": [
    "1. Python\n",
    "2. Julia\n",
    "3. R\n",
    "4. SQL\n",
    "5. Java and more"
   ]
  },
  {
   "cell_type": "code",
   "execution_count": null,
   "id": "2b140313-0970-4221-a0b9-578c73fb7588",
   "metadata": {},
   "outputs": [],
   "source": []
  },
  {
   "cell_type": "markdown",
   "id": "09eeb1c9-6c23-4222-984b-095ca3ee7643",
   "metadata": {},
   "source": [
    "**Exercise 5 - Create a markdown cell to list data science libraries**"
   ]
  },
  {
   "cell_type": "markdown",
   "id": "ad0c8629-22ae-4884-aaed-b9827813d7b4",
   "metadata": {},
   "source": [
    "#### Some of the commonly used libraries used by Data Scientists include:\n",
    "1. Numpy \n",
    "2. Pandas\n",
    "3. SickitLearn\n",
    "4. Keras\n",
    "5. Tensorflow"
   ]
  },
  {
   "cell_type": "code",
   "execution_count": null,
   "id": "56a9ccd6-4610-4e20-8420-49d31fd42832",
   "metadata": {},
   "outputs": [],
   "source": []
  },
  {
   "cell_type": "markdown",
   "id": "4f6e02d4-0958-4b1d-9c06-8f961e294beb",
   "metadata": {},
   "source": [
    "**Exercise 6 - Create a markdown cell with a table of Data Science tools**"
   ]
  },
  {
   "cell_type": "markdown",
   "id": "2a0cda8c-f766-4eb8-ab00-c65e9bbbbc35",
   "metadata": {},
   "source": [
    "#### Table of commonly used tools by data scientists\n",
    "|Data Science Tools|\n",
    "|------------------|\n",
    "|Ceph|\n",
    "|MySQL|\n",
    "|Apache CouchDB|"
   ]
  },
  {
   "cell_type": "code",
   "execution_count": null,
   "id": "eeb75fde-d133-46f0-b180-776850759935",
   "metadata": {},
   "outputs": [],
   "source": []
  },
  {
   "cell_type": "markdown",
   "id": "5cd9d051-578b-477a-94b2-c7c1d361460c",
   "metadata": {},
   "source": [
    "**Exercise 7 - Create a markdown cell introducing arithmetic expression examples**"
   ]
  },
  {
   "cell_type": "markdown",
   "id": "240123e0-3b3d-4a56-a5ee-4627e96803d0",
   "metadata": {},
   "source": [
    "### Below are a few examples of evaluating arithmetic expressions in Python.\n",
    "\n",
    "1. 20 + 10 #addition\n",
    "2. 34 - 6 #subtraction\n",
    "3. 12 % 5 #modulus\n",
    "4. 3**2 #exponent \n",
    "5.89 // 4 # floor division\n"
   ]
  },
  {
   "cell_type": "code",
   "execution_count": null,
   "id": "a0979c4b-2c24-4e63-8255-8868ef95030b",
   "metadata": {},
   "outputs": [],
   "source": []
  },
  {
   "cell_type": "markdown",
   "id": "99683a60-d0a8-4d36-8571-1af0f0cfd944",
   "metadata": {},
   "source": [
    "**Exercise 8 - Create a code cell to multiply and add numbers**\n",
    "\n",
    "\n",
    "\n"
   ]
  },
  {
   "cell_type": "code",
   "execution_count": 2,
   "id": "f60d8180-e74e-431b-abfa-9952976861c9",
   "metadata": {},
   "outputs": [
    {
     "data": {
      "text/plain": [
       "17"
      ]
     },
     "execution_count": 2,
     "metadata": {},
     "output_type": "execute_result"
    }
   ],
   "source": [
    "''' This is a simple arithmetic expressionto mutiply then add integers.'''\n",
    "(3*4)+5\n"
   ]
  },
  {
   "cell_type": "code",
   "execution_count": null,
   "id": "88aaf91d-ccc7-457f-a42c-ef5e27f1a29e",
   "metadata": {},
   "outputs": [],
   "source": []
  },
  {
   "cell_type": "markdown",
   "id": "a008938c-2fd0-462a-ae70-9db8b4b16a49",
   "metadata": {},
   "source": [
    "**Exercise 9 - Create a code cell to convert minutes to hours**"
   ]
  },
  {
   "cell_type": "code",
   "execution_count": 3,
   "id": "fe0a3a14-3bad-42d4-aa80-79f5cef2a89b",
   "metadata": {},
   "outputs": [
    {
     "data": {
      "text/plain": [
       "3.3333333333333335"
      ]
     },
     "execution_count": 3,
     "metadata": {},
     "output_type": "execute_result"
    }
   ],
   "source": [
    "# this will convert 200 minutes to hours by diving by 60.\n",
    "\n",
    "200 / 60\n"
   ]
  },
  {
   "cell_type": "code",
   "execution_count": null,
   "id": "39753850-cf3c-48e4-af06-60ccd3947e19",
   "metadata": {},
   "outputs": [],
   "source": []
  },
  {
   "cell_type": "markdown",
   "id": "0e5291a2-58fa-4cbc-a8ea-760fd4d214d9",
   "metadata": {},
   "source": [
    "**Exercise 10 - Insert a markdown cell to list Objectives**"
   ]
  },
  {
   "cell_type": "markdown",
   "id": "31ccdff5-f80d-4e63-a2ee-4298adfcb477",
   "metadata": {},
   "source": [
    "**Objectives:**\n",
    "#### List popular languages for Data Science.\n",
    "+ Python\n",
    "+ R\n",
    "+ Java\n",
    "+ SQL\n",
    "+ more"
   ]
  },
  {
   "cell_type": "code",
   "execution_count": null,
   "id": "dc7f1211-b377-4f6a-9d61-9f0290d428c8",
   "metadata": {},
   "outputs": [],
   "source": []
  },
  {
   "cell_type": "markdown",
   "id": "86915db3-b1e7-43a4-a6de-42d9da5845dc",
   "metadata": {},
   "source": [
    "**Exercise 11 - Create a markdown cell to indicate the Author's name**"
   ]
  },
  {
   "cell_type": "markdown",
   "id": "2ac286c6-1dec-42d4-a9a1-90f9c242e4cd",
   "metadata": {},
   "source": [
    "## **Author's Name**\n",
    "##### Amjad Hussain"
   ]
  },
  {
   "cell_type": "code",
   "execution_count": null,
   "id": "79735f40-d00e-4e96-bae6-6a2577848d02",
   "metadata": {},
   "outputs": [],
   "source": []
  }
 ],
 "metadata": {
  "kernelspec": {
   "display_name": "Python 3 (ipykernel)",
   "language": "python",
   "name": "python3"
  },
  "language_info": {
   "codemirror_mode": {
    "name": "ipython",
    "version": 3
   },
   "file_extension": ".py",
   "mimetype": "text/x-python",
   "name": "python",
   "nbconvert_exporter": "python",
   "pygments_lexer": "ipython3",
   "version": "3.11.5"
  }
 },
 "nbformat": 4,
 "nbformat_minor": 5
}
